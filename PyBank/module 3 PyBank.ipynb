{
 "cells": [
  {
   "cell_type": "markdown",
   "id": "3c2d188e",
   "metadata": {},
   "source": [
    "Budget Data \n",
    "\n",
    "PyBank "
   ]
  },
  {
   "cell_type": "code",
   "execution_count": 3,
   "id": "e08e58cb",
   "metadata": {},
   "outputs": [],
   "source": [
    "import os\n",
    "import csv"
   ]
  },
  {
   "cell_type": "code",
   "execution_count": 4,
   "id": "a0355466",
   "metadata": {},
   "outputs": [],
   "source": [
    "budget_data=os.path.join(\"Resources\",\"budget_data.csv\")"
   ]
  },
  {
   "cell_type": "code",
   "execution_count": 15,
   "id": "92c2bb66",
   "metadata": {
    "scrolled": true
   },
   "outputs": [],
   "source": [
    "\n",
    "Total_months= 0\n",
    "Total_profit_and_losses = 0\n",
    "value = 0\n",
    "change = 0\n",
    "date = []\n",
    "profits= []\n",
    "\n",
    "#counting first row\n",
    "with open(budget_data) as csvfile:\n",
    "    csvreader = csv.reader(csvfile, delimiter=\",\")\n",
    "    csv_header = next(csvreader)\n",
    "    \n",
    "    first_row= next(csvreader)\n",
    "    Total_months+= 1\n",
    "    #^^ is the same as ...   Total_months = Total_months +1\n",
    "    Total_profit_and_losses+= int(first_row[1])\n",
    "        \n",
    "    for row in csvreader:       \n",
    "        change = int(row[1])-value\n",
    "        value= int(row[1])\n",
    "        date.append(row[0])\n",
    "        profits.append(change)\n",
    "        \n",
    "        \n",
    "    #calculations\n",
    "        Total_months+= 1\n",
    "        #total_month variable is in code twice\n",
    "        Total_profit_and_losses = Total_profit_and_losses +int(row[1])\n",
    "        \n",
    "        Average_change=sum(profits)/len(profits)   \n",
    "\n",
    "\n",
    "\n",
    "        Greatest_increase=(max(profits))\n",
    "        greatest_index = profits.index(Greatest_increase)\n",
    "        greatest_date = date[greatest_index]\n",
    "\n",
    "        Greatest_decrease=(min(profits))\n",
    "        lowest_index= profits.index(Greatest_decrease)\n",
    "        lowest_date =date[lowest_index]"
   ]
  },
  {
   "cell_type": "code",
   "execution_count": 20,
   "id": "9d26102c",
   "metadata": {},
   "outputs": [
    {
     "name": "stdout",
     "output_type": "stream",
     "text": [
      "financial Analysis\n",
      "----------------------\n",
      "Total Month: 86\n",
      "Total: $22564198\n",
      "Average change: $-224669\n",
      "Greatest increase: Aug-16 $78\n",
      "Greatest decrease: Feb-14 $48\n"
     ]
    }
   ],
   "source": [
    "\n",
    "print(\"financial Analysis\")\n",
    "print(\"----------------------\")\n",
    "print(\"Total Month: \"+ str(Total_months))\n",
    "print(\"Total: \"+ \"$\"+str(Total_profit_and_losses))\n",
    "print(\"Average change: \"+ \"$\"+ str(change))\n",
    "print(\"Greatest increase: \"+ str(str(greatest_date) + \" $\"+str(greatest_index)))\n",
    "print(\"Greatest decrease: \"+ (str(str(lowest_date) + \" $\" + str(lowest_index))))\n"
   ]
  }
 ],
 "metadata": {
  "kernelspec": {
   "display_name": "Python 3 (ipykernel)",
   "language": "python",
   "name": "python3"
  },
  "language_info": {
   "codemirror_mode": {
    "name": "ipython",
    "version": 3
   },
   "file_extension": ".py",
   "mimetype": "text/x-python",
   "name": "python",
   "nbconvert_exporter": "python",
   "pygments_lexer": "ipython3",
   "version": "3.10.9"
  }
 },
 "nbformat": 4,
 "nbformat_minor": 5
}
