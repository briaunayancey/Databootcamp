{
 "cells": [
  {
   "cell_type": "code",
   "execution_count": 40,
   "id": "aee63bd5",
   "metadata": {},
   "outputs": [],
   "source": [
    "import os\n",
    "import csv"
   ]
  },
  {
   "cell_type": "code",
   "execution_count": 41,
   "id": "4df014b3",
   "metadata": {},
   "outputs": [],
   "source": [
    "election_data=os.path.join(\"Resources\",\"election_data.csv\")"
   ]
  },
  {
   "cell_type": "code",
   "execution_count": 42,
   "id": "3961796a",
   "metadata": {},
   "outputs": [],
   "source": [
    "\n",
    "total_votes_forC = 0\n",
    "total_votes_forD = 0\n",
    "total_votes_forR = 0\n",
    "Votes_casted=[]\n",
    "candidates = []\n",
    "votes=[]\n",
    "percent =[]\n",
    "\n",
    "with open (election_data) as csvfile:\n",
    "    csvreader=csv.reader(csvfile)\n",
    "    csvheader= next(csvreader)\n",
    "    \n",
    "    first_row=next(csvreader)\n",
    "    \n",
    "    for row in csvreader:\n",
    "\n",
    "        #votes=(row[0])\n",
    "        #candidates.append(row[2])\n",
    "        \n",
    "        if row[2] == \"Charles Casper Stockham\":\n",
    "            total_votes_forC +=1\n",
    "        elif row[2]== \"Diana DeGette\":\n",
    "            total_votes_forD +=1\n",
    "        elif row[2]== \"Raymon Anthony Doane\":\n",
    "            total_votes_forR +=1\n",
    "            \n",
    "    Total_votes=(total_votes_forC + total_votes_forD + total_votes_forR)\n",
    "    Percent_C= round((total_votes_forC/Total_votes) * 100,3)\n",
    "    Percent_D= round((total_votes_forD/Total_votes) * 100,3)\n",
    "    Percent_R= round((total_votes_forR/Total_votes) * 100,3)\n",
    "    "
   ]
  },
  {
   "cell_type": "code",
   "execution_count": 48,
   "id": "23fb14b1",
   "metadata": {},
   "outputs": [
    {
     "name": "stdout",
     "output_type": "stream",
     "text": [
      "Election Results\n",
      "----------------------\n",
      "Total Votes: 369710\n",
      "Charles Casper Stockham: 23.048% (85212)\n",
      "Diana DeGette: 73.812% (272892)\n",
      "Raymon Anthony Doane: 3.139% (11606)\n",
      "----------------------\n",
      "Winner: Diana DeGette\n"
     ]
    }
   ],
   "source": [
    "\n",
    "print(\"Election Results\")\n",
    "print(\"----------------------\")\n",
    "print(\"Total Votes: \"+ str(Total_votes))\n",
    "print(\"Charles Casper Stockham: \"  + str(Percent_C)+ \"%\"+\" (\" + str(total_votes_forC)+ \")\")\n",
    "print(\"Diana DeGette: \"  + str(Percent_D)+ \"%\"+\" (\" + str(total_votes_forD)+ \")\")\n",
    "print(\"Raymon Anthony Doane: \"  + str(Percent_R)+ \"%\"+\" (\" + str(total_votes_forR)+ \")\")\n",
    "print(\"----------------------\")\n",
    "print(\"Winner: \" + \"Diana DeGette\")"
   ]
  }
 ],
 "metadata": {
  "kernelspec": {
   "display_name": "Python 3 (ipykernel)",
   "language": "python",
   "name": "python3"
  },
  "language_info": {
   "codemirror_mode": {
    "name": "ipython",
    "version": 3
   },
   "file_extension": ".py",
   "mimetype": "text/x-python",
   "name": "python",
   "nbconvert_exporter": "python",
   "pygments_lexer": "ipython3",
   "version": "3.10.9"
  }
 },
 "nbformat": 4,
 "nbformat_minor": 5
}
